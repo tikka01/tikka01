{
 "cells": [
  {
   "cell_type": "code",
   "execution_count": 12,
   "metadata": {},
   "outputs": [],
   "source": [
    "import pandas as pd\n",
    "import numpy as np\n",
    "from sklearn import model_selection"
   ]
  },
  {
   "cell_type": "code",
   "execution_count": 13,
   "metadata": {},
   "outputs": [],
   "source": [
    "data =np.loadtxt(\"Downloads\\data.csv\",delimiter=\",\")"
   ]
  },
  {
   "cell_type": "code",
   "execution_count": 41,
   "metadata": {},
   "outputs": [],
   "source": [
    "#data"
   ]
  },
  {
   "cell_type": "code",
   "execution_count": 14,
   "metadata": {},
   "outputs": [],
   "source": [
    "x=data[:,0]\n",
    "y=data[:,1]"
   ]
  },
  {
   "cell_type": "code",
   "execution_count": 16,
   "metadata": {},
   "outputs": [
    {
     "data": {
      "text/plain": [
       "(100,)"
      ]
     },
     "execution_count": 16,
     "metadata": {},
     "output_type": "execute_result"
    }
   ],
   "source": [
    "x.shape"
   ]
  },
  {
   "cell_type": "code",
   "execution_count": 18,
   "metadata": {},
   "outputs": [],
   "source": [
    "X_train, X_test, Y_train, Y_test= model_selection.train_test_split(x,y,test_size=0.3)"
   ]
  },
  {
   "cell_type": "code",
   "execution_count": 19,
   "metadata": {},
   "outputs": [
    {
     "data": {
      "text/plain": [
       "(70,)"
      ]
     },
     "execution_count": 19,
     "metadata": {},
     "output_type": "execute_result"
    }
   ],
   "source": [
    "X_train.shape"
   ]
  },
  {
   "cell_type": "code",
   "execution_count": 32,
   "metadata": {},
   "outputs": [],
   "source": [
    "def fit(x,y):\n",
    "    num=(x*y).mean() - x.mean()*y.mean()\n",
    "    den= (x**2).mean() - (x.mean())**2\n",
    "    m=num/den\n",
    "    c=y.mean() - m*x.mean()\n",
    "    return m,c"
   ]
  },
  {
   "cell_type": "code",
   "execution_count": 33,
   "metadata": {},
   "outputs": [],
   "source": [
    "def predict (x,m,c):\n",
    "    return m*x + c\n"
   ]
  },
  {
   "cell_type": "code",
   "execution_count": 34,
   "metadata": {},
   "outputs": [],
   "source": [
    "def score (y_truth,y_pred):\n",
    "    u=((y_truth - y_pred)**2).sum()\n",
    "    v=((y_truth - y_truth.mean())**2).sum()\n",
    "    return 1 - u/v"
   ]
  },
  {
   "cell_type": "code",
   "execution_count": 42,
   "metadata": {},
   "outputs": [],
   "source": [
    "def cost(x,y,m,c):\n",
    "    return ((y - (m*x +c))**2).mean()"
   ]
  },
  {
   "cell_type": "code",
   "execution_count": 46,
   "metadata": {},
   "outputs": [],
   "source": [
    "m,c=fit(X_train,Y_train)\n",
    "y_pred=predict(X_test,m,c)\n",
    "score_pred= score(Y_test,y_pred)\n",
    "cost_var =cost(X_train,Y_train,m,c)"
   ]
  },
  {
   "cell_type": "code",
   "execution_count": 47,
   "metadata": {},
   "outputs": [
    {
     "name": "stdout",
     "output_type": "stream",
     "text": [
      "M 1.3395471953626867\n",
      "C 7.506096432211365\n",
      "Predicted score :  [66.27285256 96.17047963 81.37166027 62.93351396 99.02310461 79.27244128\n",
      " 85.42550824 60.49577207 71.10195635 74.73313373 62.5650831  83.68467282\n",
      " 91.2206931  94.18436255 60.14972078 84.91614981 82.69540135 73.41702599\n",
      " 80.21983761 84.53601796 58.4162413  61.89109421 72.00510487 91.89419508\n",
      " 89.92891496 76.95517114 51.83684592 92.72214309 57.97441423 59.68784809]\n",
      "Acuracy:  0.6302405956974849\n",
      "Cost on Training Data :  115.4300141924869\n"
     ]
    }
   ],
   "source": [
    "print(\"M\" , m)\n",
    "print(\"C\" , c)\n",
    "print(\"Predicted score : \" , y_pred)\n",
    "print(\"Acuracy: \" ,score_pred )\n",
    "print(\"Cost on Training Data : \",cost_var )"
   ]
  },
  {
   "cell_type": "code",
   "execution_count": null,
   "metadata": {},
   "outputs": [],
   "source": []
  }
 ],
 "metadata": {
  "kernelspec": {
   "display_name": "Python 3",
   "language": "python",
   "name": "python3"
  },
  "language_info": {
   "codemirror_mode": {
    "name": "ipython",
    "version": 3
   },
   "file_extension": ".py",
   "mimetype": "text/x-python",
   "name": "python",
   "nbconvert_exporter": "python",
   "pygments_lexer": "ipython3",
   "version": "3.8.5"
  }
 },
 "nbformat": 4,
 "nbformat_minor": 4
}
